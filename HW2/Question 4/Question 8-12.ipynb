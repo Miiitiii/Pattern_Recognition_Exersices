{
 "cells": [
  {
   "cell_type": "code",
   "execution_count": 1,
   "id": "9eb8c7b3",
   "metadata": {},
   "outputs": [],
   "source": [
    "import numpy as np\n",
    "import pandas as pd\n",
    "import matplotlib.pyplot as plt\n",
    "from kumaraswamy import kumaraswamy\n",
    "\n",
    "data = pd.read_csv('D:/HomeWork/Pattern/inputs/P4/kumaraswamy.txt',header = None)\n",
    "data = data.values\n",
    "\n",
    "X = []\n",
    "Y = []\n",
    "Z = []"
   ]
  },
  {
   "cell_type": "code",
   "execution_count": 2,
   "id": "f0451521",
   "metadata": {},
   "outputs": [
    {
     "data": {
      "image/png": "[encoded data removed]",
      "text/plain": [
       "<Figure size 432x288 with 1 Axes>"
      ]
     },
     "metadata": {
      "needs_background": "light"
     },
     "output_type": "display_data"
    }
   ],
   "source": [
    "plt.hist(data, 100,   density = 1, color ='green')\n",
    "plt.show()"
   ]
  },
  {
   "cell_type": "code",
   "execution_count": 4,
   "id": "76ccfbee",
   "metadata": {},
   "outputs": [
    {
     "name": "stdout",
     "output_type": "stream",
     "text": [
      "a is :  10.1\n",
      "b is :  2.1\n",
      "log of likelihood is : [5188.20809425]\n"
     ]
    }
   ],
   "source": [
    "for x in np.arange(0.1,13,1):\n",
    "    for y in np.arange(0.1,13,1):\n",
    "        X.append(x)\n",
    "        Y.append(y)\n",
    "        result = 0\n",
    "        dis = kumaraswamy(x,y)\n",
    "        for i in data:\n",
    "            result += np.log(dis.pdf(i))\n",
    "        Z.append(result)\n",
    "        \n",
    "maxIndex = Z.index(max(Z))+1\n",
    "a = X[maxIndex]\n",
    "b = Y[maxIndex]\n",
    "likelihood_log = Z[maxIndex]\n",
    "print(\"a is : \" , a)\n",
    "print(\"b is : \" , b)\n",
    "print(\"log of likelihood is :\" , likelihood_log)"
   ]
  },
  {
   "cell_type": "code",
   "execution_count": 5,
   "id": "881afc1b",
   "metadata": {},
   "outputs": [
    {
     "data": {
      "text/plain": [
       "(9.878099193289172, 2.0208964972958867)"
      ]
     },
     "execution_count": 5,
     "metadata": {},
     "output_type": "execute_result"
    }
   ],
   "source": [
    "import scipy.optimize as opt\n",
    "import scipy.stats as st\n",
    "import numpy as np\n",
    "def kumaraswamy_logL(log_par, data):\n",
    "    N = len(data)\n",
    "    a,b = np.exp(log_par)\n",
    "    logL = N*np.log(a*b) + (a-1)*np.sum(np.log(data)) + (b-1)*np.sum(np.log(1-np.power(data, a)))\n",
    "    return logL\n",
    "\n",
    "\n",
    "def kumaraswamy_mle(data):\n",
    "    res = opt.minimize(\n",
    "    fun=lambda log_params, data: -kumaraswamy_logL(log_params, data),\n",
    "    x0=np.array([0.5, 0.5]), args=(data,), method='BFGS')\n",
    "    a,b = np.exp(res.x)\n",
    "    return a,b\n",
    "\n",
    "def kumaraswamy_q(p, a, b):\n",
    "    return np.power(1-np.power(1-p, 1/b), 1/a)\n",
    "\n",
    "a,b = kumaraswamy_mle(data)\n",
    "a,b"
   ]
  },
  {
   "cell_type": "code",
   "execution_count": 6,
   "id": "d73edec6",
   "metadata": {},
   "outputs": [
    {
     "data": {
      "image/png": "[encoded data removed]",
      "text/plain": [
       "<Figure size 432x288 with 1 Axes>"
      ]
     },
     "metadata": {
      "needs_background": "light"
     },
     "output_type": "display_data"
    }
   ],
   "source": [
    "def kumaraswamy(a,b,x):\n",
    "    return a*b*((x)**(a-1))*((1-x**a)**(b-1))\n",
    "\n",
    "r = list(np.arange(0.01,1,0.01))\n",
    "\n",
    "[(lambda x: x*x)(x) for x in range(10)]\n",
    "\n",
    "cal = [(lambda x: kumaraswamy(9.8780,2.020,x)) (x) for x in r] \n",
    "esti = [(lambda x: kumaraswamy(10.1,2.6,x))  (x) for x in r] \n",
    "\n",
    "plt.plot(r,cal)\n",
    "plt.plot(r,esti)\n",
    "plt.hist(data,len(data))\n",
    "plt.ylim(0,8)\n",
    "plt.show()"
   ]
  },
  {
   "cell_type": "code",
   "execution_count": null,
   "id": "c3fd767d",
   "metadata": {},
   "outputs": [],
   "source": []
  }
 ],
 "metadata": {
  "kernelspec": {
   "display_name": "Python 3",
   "language": "python",
   "name": "python3"
  },
  "language_info": {
   "codemirror_mode": {
    "name": "ipython",
    "version": 3
   },
   "file_extension": ".py",
   "mimetype": "text/x-python",
   "name": "python",
   "nbconvert_exporter": "python",
   "pygments_lexer": "ipython3",
   "version": "3.8.8"
  }
 },
 "nbformat": 4,
 "nbformat_minor": 5
}
