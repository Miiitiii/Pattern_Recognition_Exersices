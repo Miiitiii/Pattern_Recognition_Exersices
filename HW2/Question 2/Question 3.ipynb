{
 "cells": [
  {
   "cell_type": "code",
   "execution_count": 1,
   "id": "0665c46f",
   "metadata": {},
   "outputs": [],
   "source": [
    "import os\n",
    "import matplotlib.image as mpimg\n",
    "import matplotlib.pyplot as plt\n",
    "import numpy as np"
   ]
  },
  {
   "cell_type": "code",
   "execution_count": 2,
   "id": "07e31137",
   "metadata": {},
   "outputs": [],
   "source": [
    "def load_images(directory):\n",
    "    one_dim = []\n",
    "    class_names = []\n",
    "    labels = []\n",
    "    for filename in os.listdir(directory):\n",
    "        path = directory + \"/\" + filename\n",
    "        t = filename.split('_')\n",
    "        t = int(t[0])\n",
    "        if t not in class_names:\n",
    "            class_names.append(t)\n",
    "        labels.append(t)\n",
    "        im = mpimg.imread(path)\n",
    "        temp = []\n",
    "        for row in im:\n",
    "            for w in row:\n",
    "                temp.append(int(w))\n",
    "        one_dim.append(temp)\n",
    "\n",
    "    return one_dim, labels, class_names"
   ]
  },
  {
   "cell_type": "code",
   "execution_count": 3,
   "id": "bf2a608b",
   "metadata": {},
   "outputs": [],
   "source": [
    "trainData , trainLabel, trainClassName = load_images(\"D:/HomeWork/Pattern/inputs/P2/dataset/b/Train\")\n",
    "testData , testLabel, testClassName = load_images(\"D:/HomeWork/Pattern/inputs/P2/dataset/b/Test\")"
   ]
  },
  {
   "cell_type": "code",
   "execution_count": 4,
   "id": "5e37a8f9",
   "metadata": {},
   "outputs": [],
   "source": [
    "def findCentroidData(train, label, nClasses, nFeatures):\n",
    "    \n",
    "    centroidData = [[0 for i in range(0, nFeatures)] for i in range(0, nClasses)]\n",
    "    numberClass = [0 for i in range(0, nClasses)]\n",
    "    \n",
    "    for i in range(0, len(train)):\n",
    "        for j in range(len(centroidData[0])):\n",
    "            centroidData[label[i]][j] = centroidData[label[i]][j] + train[i][j]\n",
    "        numberClass[label[i]] += 1\n",
    "        \n",
    "    for i in range(0, nClasses):\n",
    "        centroidData[i] = np.divide(np.array(centroidData[i]), np.array(numberClass[i]))\n",
    "        \n",
    "    return centroidData"
   ]
  },
  {
   "cell_type": "code",
   "execution_count": 7,
   "id": "602a771e",
   "metadata": {},
   "outputs": [
    {
     "data": {
      "image/png": "[encoded data removed]",
      "text/plain": [
       "<Figure size 4320x4320 with 4 Axes>"
      ]
     },
     "metadata": {
      "needs_background": "light"
     },
     "output_type": "display_data"
    },
    {
     "name": "stdout",
     "output_type": "stream",
     "text": [
      "Data with class 0 predicted as class 0 : true predicted\n",
      "Data with class 0 predicted as class 0 : true predicted\n",
      "Data with class 0 predicted as class 0 : true predicted\n",
      "Data with class 0 predicted as class 0 : true predicted\n",
      "Data with class 0 predicted as class 0 : true predicted\n",
      "Data with class 0 predicted as class 0 : true predicted\n",
      "Data with class 0 predicted as class 0 : true predicted\n",
      "Data with class 0 predicted as class 0 : true predicted\n",
      "Data with class 0 predicted as class 0 : true predicted\n",
      "Data with class 0 predicted as class 0 : true predicted\n",
      "Data with class 1 predicted as class 1 : true predicted\n",
      "Data with class 1 predicted as class 1 : true predicted\n",
      "Data with class 1 predicted as class 1 : true predicted\n",
      "Data with class 1 predicted as class 1 : true predicted\n",
      "Data with class 1 predicted as class 1 : true predicted\n",
      "Data with class 1 predicted as class 1 : true predicted\n",
      "Data with class 1 predicted as class 1 : true predicted\n",
      "Data with class 1 predicted as class 1 : true predicted\n",
      "Data with class 1 predicted as class 1 : true predicted\n",
      "Data with class 1 predicted as class 1 : true predicted\n",
      "Data with class 2 predicted as class 2 : true predicted\n",
      "Data with class 2 predicted as class 2 : true predicted\n",
      "Data with class 2 predicted as class 2 : true predicted\n",
      "Data with class 2 predicted as class 2 : true predicted\n",
      "Data with class 2 predicted as class 2 : true predicted\n",
      "Data with class 2 predicted as class 2 : true predicted\n",
      "Data with class 2 predicted as class 2 : true predicted\n",
      "Data with class 2 predicted as class 2 : true predicted\n",
      "Data with class 2 predicted as class 2 : true predicted\n",
      "Data with class 2 predicted as class 2 : true predicted\n",
      "Data with class 3 predicted as class 3 : true predicted\n",
      "Data with class 3 predicted as class 3 : true predicted\n",
      "Data with class 3 predicted as class 3 : true predicted\n",
      "Data with class 3 predicted as class 3 : true predicted\n",
      "Data with class 3 predicted as class 3 : true predicted\n",
      "Data with class 3 predicted as class 3 : true predicted\n",
      "Data with class 3 predicted as class 3 : true predicted\n",
      "Data with class 3 predicted as class 3 : true predicted\n",
      "Data with class 3 predicted as class 3 : true predicted\n",
      "Data with class 3 predicted as class 3 : true predicted\n"
     ]
    }
   ],
   "source": [
    "centroidData = findCentroidData(trainData , trainLabel , len(trainClassName) , len(trainData[0]))\n",
    "counter = 1\n",
    "\n",
    "fig = plt.figure(figsize=(60, 60))\n",
    "for img in centroidData:\n",
    "    two_d = []\n",
    "    for i in range(59):\n",
    "        two_d.append(img[i * 60:(i + 1) * 60])\n",
    "    fig.add_subplot(1, 10, counter)\n",
    "    counter += 1\n",
    "    plt.imshow(two_d)\n",
    "plt.show()\n",
    "\n",
    "\n",
    "calculateError(testData , centroidData , testClassName , testLabel)"
   ]
  },
  {
   "cell_type": "code",
   "execution_count": 5,
   "id": "06357f07",
   "metadata": {},
   "outputs": [],
   "source": [
    "def calculateError(testData , centroidData , className , labelTest):\n",
    "        for i in range(len(testData)):\n",
    "            prediction = int(predict(testData[i], centroidData,className))\n",
    "            if labelTest[i] == prediction:\n",
    "                print(\"Data with class \"+str(labelTest[i])+ \" predicted as class \"+ str(prediction) + \" : true predicted\")\n",
    "            else:\n",
    "                print(\"Data with class \"+str(labelTest[i])+ \" predicted as class \"+ str(prediction) + \" : false predicted\")"
   ]
  },
  {
   "cell_type": "code",
   "execution_count": 6,
   "id": "0a793d6b",
   "metadata": {},
   "outputs": [],
   "source": [
    "def predict(sample, centroidData,className):\n",
    "    dist = []\n",
    "    for i in range(len(centroidData)):\n",
    "        euclidean_distance = 0\n",
    "        for j in range (len(sample)):\n",
    "            euclidean_distance +=  (sample[j] - centroidData[i][j]) ** 2\n",
    "        dist.append([className[i],euclidean_distance])\n",
    "    dist.sort(key=lambda tup: tup[1])\n",
    "    return dist[0][0]"
   ]
  },
  {
   "cell_type": "code",
   "execution_count": null,
   "id": "70df33b5",
   "metadata": {},
   "outputs": [],
   "source": []
  }
 ],
 "metadata": {
  "kernelspec": {
   "display_name": "Python 3",
   "language": "python",
   "name": "python3"
  },
  "language_info": {
   "codemirror_mode": {
    "name": "ipython",
    "version": 3
   },
   "file_extension": ".py",
   "mimetype": "text/x-python",
   "name": "python",
   "nbconvert_exporter": "python",
   "pygments_lexer": "ipython3",
   "version": "3.8.8"
  }
 },
 "nbformat": 4,
 "nbformat_minor": 5
}
