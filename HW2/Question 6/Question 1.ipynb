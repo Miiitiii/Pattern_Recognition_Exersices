{
 "cells": [
  {
   "cell_type": "code",
   "execution_count": 1,
   "id": "4aa6b9d2",
   "metadata": {},
   "outputs": [],
   "source": [
    "import glob\n",
    "import cv2\n",
    "import numpy as np\n",
    "\n",
    "non_skin = []\n",
    "skin = []\n",
    "images = []"
   ]
  },
  {
   "cell_type": "code",
   "execution_count": 2,
   "id": "d2178822",
   "metadata": {},
   "outputs": [],
   "source": [
    "#import images\n",
    "for image in glob.glob(r'D:\\HomeWork\\Pattern\\inputs\\P6\\pratheepan\\train\\set1\\groundtruth\\*.png'):\n",
    "    images.append(cv2.imread(image))"
   ]
  },
  {
   "cell_type": "code",
   "execution_count": 3,
   "id": "a58d0a8a",
   "metadata": {},
   "outputs": [],
   "source": [
    "#Find skin and non-skin pixels\n",
    "for image in images:\n",
    "    for i in image:\n",
    "        for j in i:\n",
    "            if j.all() == 0:\n",
    "                non_skin.append(0)\n",
    "            else:\n",
    "                skin.append(255)"
   ]
  },
  {
   "cell_type": "code",
   "execution_count": 4,
   "id": "6634be0a",
   "metadata": {},
   "outputs": [
    {
     "name": "stdout",
     "output_type": "stream",
     "text": [
      "Probabilty of non-skin class is :  0.724924508675029\n",
      "Probabilty of skin class is :  0.27507549132497106\n"
     ]
    }
   ],
   "source": [
    "#calculate probability of each classes\n",
    "#Question 1\n",
    "probability_of_non_skin = len(non_skin) / (len(non_skin) + len(skin))\n",
    "probability_of_skin = len(skin) / (len(non_skin) + len(skin))\n",
    "\n",
    "print(\"Probabilty of non-skin class is : \" , probability_of_non_skin)\n",
    "print(\"Probabilty of skin class is : \" , probability_of_skin)"
   ]
  },
  {
   "cell_type": "code",
   "execution_count": 5,
   "id": "9e435bed",
   "metadata": {},
   "outputs": [],
   "source": [
    "#We must calculate all pixels and sum of them then devide on number of pixels\n",
    "#Question 2\n",
    "\n",
    "pixels = 0\n",
    "var = 0\n",
    "mean = 0\n",
    "\n",
    "for cv in images:\n",
    "    variance = np.var(cv)\n",
    "    mean = pixels / (len(non_skin) + len(skin))\n",
    "    for i in cv:\n",
    "        for j in i:\n",
    "            if j.all() != 0:\n",
    "                pixels += 255\n",
    "            for v in j:\n",
    "                var += (v - mean)**2\n",
    "\n",
    "#mean and variance of class\n",
    "mean = (pixels * 255) / (len(non_skin) + len(skin))\n",
    "variance = var/ ((len(non_skin) + len(skin)) - 1)"
   ]
  },
  {
   "cell_type": "code",
   "execution_count": null,
   "id": "6959dd3a",
   "metadata": {},
   "outputs": [],
   "source": []
  },
  {
   "cell_type": "code",
   "execution_count": null,
   "id": "aca3ca34",
   "metadata": {},
   "outputs": [],
   "source": []
  },
  {
   "cell_type": "code",
   "execution_count": null,
   "id": "b16abe17",
   "metadata": {},
   "outputs": [],
   "source": []
  }
 ],
 "metadata": {
  "kernelspec": {
   "display_name": "Python 3",
   "language": "python",
   "name": "python3"
  },
  "language_info": {
   "codemirror_mode": {
    "name": "ipython",
    "version": 3
   },
   "file_extension": ".py",
   "mimetype": "text/x-python",
   "name": "python",
   "nbconvert_exporter": "python",
   "pygments_lexer": "ipython3",
   "version": "3.8.8"
  }
 },
 "nbformat": 4,
 "nbformat_minor": 5
}
