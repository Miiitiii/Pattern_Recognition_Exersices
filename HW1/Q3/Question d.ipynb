{
 "cells": [
  {
   "cell_type": "code",
   "execution_count": 1,
   "id": "85924d80",
   "metadata": {},
   "outputs": [
    {
     "data": {
      "text/html": [
       "<div>\n",
       "<style scoped>\n",
       "    .dataframe tbody tr th:only-of-type {\n",
       "        vertical-align: middle;\n",
       "    }\n",
       "\n",
       "    .dataframe tbody tr th {\n",
       "        vertical-align: top;\n",
       "    }\n",
       "\n",
       "    .dataframe thead th {\n",
       "        text-align: right;\n",
       "    }\n",
       "</style>\n",
       "<table border=\"1\" class=\"dataframe\">\n",
       "  <thead>\n",
       "    <tr style=\"text-align: right;\">\n",
       "      <th></th>\n",
       "      <th>0</th>\n",
       "      <th>1</th>\n",
       "      <th>2</th>\n",
       "      <th>3</th>\n",
       "      <th>4</th>\n",
       "    </tr>\n",
       "  </thead>\n",
       "  <tbody>\n",
       "    <tr>\n",
       "      <th>0</th>\n",
       "      <td>5.1</td>\n",
       "      <td>3.5</td>\n",
       "      <td>1.4</td>\n",
       "      <td>0.2</td>\n",
       "      <td>Iris-setosa</td>\n",
       "    </tr>\n",
       "    <tr>\n",
       "      <th>1</th>\n",
       "      <td>4.9</td>\n",
       "      <td>3.0</td>\n",
       "      <td>1.4</td>\n",
       "      <td>0.2</td>\n",
       "      <td>Iris-setosa</td>\n",
       "    </tr>\n",
       "    <tr>\n",
       "      <th>2</th>\n",
       "      <td>4.7</td>\n",
       "      <td>3.2</td>\n",
       "      <td>1.3</td>\n",
       "      <td>0.2</td>\n",
       "      <td>Iris-setosa</td>\n",
       "    </tr>\n",
       "    <tr>\n",
       "      <th>3</th>\n",
       "      <td>4.6</td>\n",
       "      <td>3.1</td>\n",
       "      <td>1.5</td>\n",
       "      <td>0.2</td>\n",
       "      <td>Iris-setosa</td>\n",
       "    </tr>\n",
       "    <tr>\n",
       "      <th>4</th>\n",
       "      <td>5.0</td>\n",
       "      <td>3.6</td>\n",
       "      <td>1.4</td>\n",
       "      <td>0.2</td>\n",
       "      <td>Iris-setosa</td>\n",
       "    </tr>\n",
       "  </tbody>\n",
       "</table>\n",
       "</div>"
      ],
      "text/plain": [
       "     0    1    2    3            4\n",
       "0  5.1  3.5  1.4  0.2  Iris-setosa\n",
       "1  4.9  3.0  1.4  0.2  Iris-setosa\n",
       "2  4.7  3.2  1.3  0.2  Iris-setosa\n",
       "3  4.6  3.1  1.5  0.2  Iris-setosa\n",
       "4  5.0  3.6  1.4  0.2  Iris-setosa"
      ]
     },
     "execution_count": 1,
     "metadata": {},
     "output_type": "execute_result"
    }
   ],
   "source": [
    "import numpy as np\n",
    "from matplotlib import pyplot as plt\n",
    "import pandas as pd\n",
    "# reading csv files\n",
    "data =  pd.read_csv('D:/HomeWork/iris.data', sep=\",\",header = None)\n",
    "setosa = data[data[4] == 'Iris-setosa']\n",
    "virginica = data[data[4] == 'Iris-virginica']\n",
    "versicolor = data[data[4] == 'Iris-versicolor']\n",
    "\n",
    "data.head()"
   ]
  },
  {
   "cell_type": "code",
   "execution_count": 2,
   "id": "c3999fc0",
   "metadata": {},
   "outputs": [
    {
     "data": {
      "image/png": "[encoded data removed]",
      "text/plain": [
       "<Figure size 432x288 with 1 Axes>"
      ]
     },
     "metadata": {
      "needs_background": "light"
     },
     "output_type": "display_data"
    }
   ],
   "source": [
    "#Feature 1 and 4\n",
    "F1_setosa = setosa[0]\n",
    "F4_setosa = setosa[3]\n",
    "\n",
    "F1_virginica = virginica[0]\n",
    "F4_virginica = virginica[3]\n",
    "\n",
    "F1_versicolor = versicolor[0]\n",
    "F4_versicolor = versicolor[3]\n",
    "\n",
    "\n",
    "plt.plot(F1_setosa,F4_setosa , linestyle='', marker='o', color=\"red\", label='setosa')\n",
    "plt.plot(F1_virginica,F4_virginica , linestyle='', marker='o', color=\"blue\", label='virginica')\n",
    "plt.plot(F1_versicolor,F4_versicolor , linestyle='', marker='o', color=\"black\", label='versicolor')\n",
    "plt.title('Feature 1 and 4')\n",
    "plt.xlabel('F1')\n",
    "plt.ylabel('F4')\n",
    "plt.legend()\n",
    "\n",
    "plt.show()"
   ]
  },
  {
   "cell_type": "code",
   "execution_count": 3,
   "id": "38648ba4",
   "metadata": {},
   "outputs": [
    {
     "data": {
      "image/png": "[encoded data removed]",
      "text/plain": [
       "<Figure size 432x288 with 1 Axes>"
      ]
     },
     "metadata": {
      "needs_background": "light"
     },
     "output_type": "display_data"
    }
   ],
   "source": [
    "#Feature 2 and 3\n",
    "F2_setosa = setosa[1]\n",
    "F3_setosa = setosa[2]\n",
    "\n",
    "F2_virginica = virginica[1]\n",
    "F3_virginica = virginica[2]\n",
    "\n",
    "F2_versicolor = versicolor[1]\n",
    "F3_versicolor = versicolor[2]\n",
    "\n",
    "\n",
    "plt.plot(F2_setosa,F3_setosa , linestyle='', marker='o', color=\"red\", label='setosa')\n",
    "plt.plot(F2_virginica,F3_virginica , linestyle='', marker='o', color=\"blue\", label='virginica')\n",
    "plt.plot(F2_versicolor,F3_versicolor , linestyle='', marker='o', color=\"black\", label='versicolor')\n",
    "plt.title('Feature 2 and 3')\n",
    "plt.xlabel('F2')\n",
    "plt.ylabel('F3')\n",
    "plt.legend()\n",
    "\n",
    "plt.show()"
   ]
  },
  {
   "cell_type": "code",
   "execution_count": 4,
   "id": "cb2ab452",
   "metadata": {},
   "outputs": [
    {
     "data": {
      "image/png": "[encoded data removed]",
      "text/plain": [
       "<Figure size 432x288 with 1 Axes>"
      ]
     },
     "metadata": {
      "needs_background": "light"
     },
     "output_type": "display_data"
    }
   ],
   "source": [
    "#Feature 3 and 4\n",
    "F3_setosa = setosa[2]\n",
    "F4_setosa = setosa[3]\n",
    "\n",
    "F3_virginica = virginica[2]\n",
    "F4_virginica = virginica[3]\n",
    "\n",
    "F3_versicolor = versicolor[2]\n",
    "F4_versicolor = versicolor[3]\n",
    "\n",
    "\n",
    "plt.plot(F3_setosa,F4_setosa , linestyle='', marker='o', color=\"red\", label='setosa')\n",
    "plt.plot(F3_virginica,F4_virginica , linestyle='', marker='o', color=\"blue\", label='virginica')\n",
    "plt.plot(F3_versicolor,F4_versicolor , linestyle='', marker='o', color=\"black\", label='versicolor')\n",
    "plt.title('Feature 3 and 4')\n",
    "plt.xlabel('F3')\n",
    "plt.ylabel('F4')\n",
    "plt.legend()\n",
    "\n",
    "plt.show()"
   ]
  },
  {
   "cell_type": "code",
   "execution_count": null,
   "id": "6b193fb2",
   "metadata": {},
   "outputs": [],
   "source": []
  }
 ],
 "metadata": {
  "kernelspec": {
   "display_name": "Python 3",
   "language": "python",
   "name": "python3"
  },
  "language_info": {
   "codemirror_mode": {
    "name": "ipython",
    "version": 3
   },
   "file_extension": ".py",
   "mimetype": "text/x-python",
   "name": "python",
   "nbconvert_exporter": "python",
   "pygments_lexer": "ipython3",
   "version": "3.8.8"
  }
 },
 "nbformat": 4,
 "nbformat_minor": 5
}
