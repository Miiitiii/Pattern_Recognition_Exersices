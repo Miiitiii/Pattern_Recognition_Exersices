{
 "cells": [
  {
   "cell_type": "code",
   "execution_count": 1,
   "id": "321001ee",
   "metadata": {},
   "outputs": [
    {
     "data": {
      "text/html": [
       "<div>\n",
       "<style scoped>\n",
       "    .dataframe tbody tr th:only-of-type {\n",
       "        vertical-align: middle;\n",
       "    }\n",
       "\n",
       "    .dataframe tbody tr th {\n",
       "        vertical-align: top;\n",
       "    }\n",
       "\n",
       "    .dataframe thead th {\n",
       "        text-align: right;\n",
       "    }\n",
       "</style>\n",
       "<table border=\"1\" class=\"dataframe\">\n",
       "  <thead>\n",
       "    <tr style=\"text-align: right;\">\n",
       "      <th></th>\n",
       "      <th>timestamp</th>\n",
       "      <th>tag_id</th>\n",
       "      <th>x_pos</th>\n",
       "      <th>y_pos</th>\n",
       "      <th>heading</th>\n",
       "      <th>direction</th>\n",
       "      <th>energy</th>\n",
       "      <th>speed</th>\n",
       "      <th>total_distance</th>\n",
       "    </tr>\n",
       "  </thead>\n",
       "  <tbody>\n",
       "    <tr>\n",
       "      <th>0</th>\n",
       "      <td>01:09.0</td>\n",
       "      <td>9</td>\n",
       "      <td>32.2538</td>\n",
       "      <td>12.7243</td>\n",
       "      <td>0.234750</td>\n",
       "      <td>0.00000</td>\n",
       "      <td>254.040</td>\n",
       "      <td>0.000000</td>\n",
       "      <td>329.554</td>\n",
       "    </tr>\n",
       "    <tr>\n",
       "      <th>1</th>\n",
       "      <td>01:09.0</td>\n",
       "      <td>13</td>\n",
       "      <td>21.1081</td>\n",
       "      <td>17.6180</td>\n",
       "      <td>1.413400</td>\n",
       "      <td>1.74127</td>\n",
       "      <td>202.250</td>\n",
       "      <td>0.907549</td>\n",
       "      <td>241.842</td>\n",
       "    </tr>\n",
       "    <tr>\n",
       "      <th>2</th>\n",
       "      <td>01:09.0</td>\n",
       "      <td>14</td>\n",
       "      <td>28.5255</td>\n",
       "      <td>17.5359</td>\n",
       "      <td>1.640910</td>\n",
       "      <td>-3.03810</td>\n",
       "      <td>190.648</td>\n",
       "      <td>0.572368</td>\n",
       "      <td>241.965</td>\n",
       "    </tr>\n",
       "    <tr>\n",
       "      <th>3</th>\n",
       "      <td>01:09.0</td>\n",
       "      <td>10</td>\n",
       "      <td>45.2474</td>\n",
       "      <td>14.4618</td>\n",
       "      <td>1.129020</td>\n",
       "      <td>0.00000</td>\n",
       "      <td>342.244</td>\n",
       "      <td>0.000000</td>\n",
       "      <td>349.529</td>\n",
       "    </tr>\n",
       "    <tr>\n",
       "      <th>4</th>\n",
       "      <td>01:09.0</td>\n",
       "      <td>8</td>\n",
       "      <td>28.5504</td>\n",
       "      <td>39.5494</td>\n",
       "      <td>0.927515</td>\n",
       "      <td>2.52704</td>\n",
       "      <td>304.319</td>\n",
       "      <td>1.060790</td>\n",
       "      <td>250.349</td>\n",
       "    </tr>\n",
       "  </tbody>\n",
       "</table>\n",
       "</div>"
      ],
      "text/plain": [
       "  timestamp  tag_id    x_pos    y_pos   heading  direction   energy     speed  \\\n",
       "0   01:09.0       9  32.2538  12.7243  0.234750    0.00000  254.040  0.000000   \n",
       "1   01:09.0      13  21.1081  17.6180  1.413400    1.74127  202.250  0.907549   \n",
       "2   01:09.0      14  28.5255  17.5359  1.640910   -3.03810  190.648  0.572368   \n",
       "3   01:09.0      10  45.2474  14.4618  1.129020    0.00000  342.244  0.000000   \n",
       "4   01:09.0       8  28.5504  39.5494  0.927515    2.52704  304.319  1.060790   \n",
       "\n",
       "   total_distance  \n",
       "0         329.554  \n",
       "1         241.842  \n",
       "2         241.965  \n",
       "3         349.529  \n",
       "4         250.349  "
      ]
     },
     "execution_count": 1,
     "metadata": {},
     "output_type": "execute_result"
    }
   ],
   "source": [
    "import numpy as np\n",
    "from numpy.linalg import inv\n",
    "from matplotlib import pyplot as plt\n",
    "import pandas as pd\n",
    "\n",
    "address = 'D:/HomeWork/Pattern/SPR_HW1/inputs/P6/first_half_logs/first_half_logs.csv'\n",
    "data = pd.read_csv(address)\n",
    "data.head()"
   ]
  },
  {
   "cell_type": "code",
   "execution_count": 2,
   "id": "8503a278",
   "metadata": {},
   "outputs": [
    {
     "name": "stdout",
     "output_type": "stream",
     "text": [
      "[[ 1.         60.99902381 33.55849533]\n",
      " [ 2.         33.29703602 38.40279404]\n",
      " [ 5.         43.98551857 37.71468843]\n",
      " [ 7.         49.07791408 43.71642116]\n",
      " [ 8.         37.26917829 47.26113391]\n",
      " [ 9.         38.39837064 19.16483717]\n",
      " [10.         49.77859827 22.46277549]\n",
      " [ 3.         37.95296352 27.62576714]\n",
      " [13.         32.7400862  30.16125197]\n",
      " [14.         42.74584054 29.77146472]\n",
      " [15.         59.11018939 32.75361944]]\n"
     ]
    },
    {
     "data": {
      "image/png": "[encoded data removed]",
      "text/plain": [
       "<Figure size 432x288 with 1 Axes>"
      ]
     },
     "metadata": {
      "needs_background": "light"
     },
     "output_type": "display_data"
    }
   ],
   "source": [
    "#create a empty array\n",
    "playerDataMean = np.zeros((11,3))\n",
    "players = [1 , 2, 5, 7 ,8 , 9 ,10 , 3 , 13 , 14 , 15]\n",
    "\n",
    "index = 0\n",
    "for i in players:\n",
    "#find data of each player\n",
    "    playerData = data[data['tag_id'] == i]\n",
    "#calculate mean of each player        \n",
    "    h = playerData.mean()\n",
    "#add data of players to array\n",
    "    playerDataMean[index] = [h['tag_id'] , h['x_pos'] , h['y_pos']]\n",
    "    index = index + 1\n",
    "    \n",
    "\n",
    "\n",
    "\n",
    "plt.xlim([0, 150])\n",
    "plt.ylim([0, 68])\n",
    "\n",
    "print(playerDataMean)\n",
    "\n",
    "plt.plot(playerDataMean[: , 1],playerDataMean[: , 2] , linestyle='', marker='o')\n",
    "for i in range(len(playerDataMean)):\n",
    "    plt.annotate('#'+ str(int(playerDataMean[i, 0])), xy=(playerDataMean[i, 1], playerDataMean[i, 2]), xytext=(playerDataMean[i, 1]+1, playerDataMean[i, 2]+1), fontsize=13)\n",
    "\n",
    "plt.show()\n"
   ]
  },
  {
   "cell_type": "code",
   "execution_count": null,
   "id": "da470162",
   "metadata": {},
   "outputs": [],
   "source": []
  }
 ],
 "metadata": {
  "kernelspec": {
   "display_name": "Python 3",
   "language": "python",
   "name": "python3"
  },
  "language_info": {
   "codemirror_mode": {
    "name": "ipython",
    "version": 3
   },
   "file_extension": ".py",
   "mimetype": "text/x-python",
   "name": "python",
   "nbconvert_exporter": "python",
   "pygments_lexer": "ipython3",
   "version": "3.8.8"
  }
 },
 "nbformat": 4,
 "nbformat_minor": 5
}
