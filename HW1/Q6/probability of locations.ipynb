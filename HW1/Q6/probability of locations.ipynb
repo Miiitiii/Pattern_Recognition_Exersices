{
 "cells": [
  {
   "cell_type": "code",
   "execution_count": 2,
   "id": "0a51381c",
   "metadata": {},
   "outputs": [],
   "source": [
    "import matplotlib.pyplot as plt\n",
    "import numpy as np\n",
    "from scipy.interpolate import griddata\n",
    "import pandas as pd\n",
    "import lmfit\n",
    "from lmfit.lineshapes import gaussian2d\n",
    "import random\n",
    "\n",
    "address = 'D:/HomeWork/Pattern/SPR_HW1/inputs/P6/first_half_logs/first_half_logs.csv'\n",
    "df = pd.read_csv(address)"
   ]
  },
  {
   "cell_type": "code",
   "execution_count": 3,
   "id": "f988bb12",
   "metadata": {},
   "outputs": [],
   "source": [
    "#Calculate mean and Standard deviation.\n",
    "def calculate_tools(x):\n",
    "    mean = np.mean(x)\n",
    "    sd = np.std(x)\n",
    "    cov_mat = np.stack((x['x_pos'], x['y_pos']), axis = 0)\n",
    "    cov = np.cov(cov_mat)\n",
    "    coe = (cov[0][1])/(sd['x_pos'] * sd['y_pos'])\n",
    "    return mean , sd , cov , coe"
   ]
  },
  {
   "cell_type": "code",
   "execution_count": 4,
   "id": "c6f92fd1",
   "metadata": {},
   "outputs": [],
   "source": [
    "players = [1 , 2, 5, 7 ,8 , 9 ,10 , 3 , 13 , 14 , 15]"
   ]
  },
  {
   "cell_type": "code",
   "execution_count": 10,
   "id": "53c5a375",
   "metadata": {},
   "outputs": [
    {
     "name": "stdout",
     "output_type": "stream",
     "text": [
      "player: 10 x_pos: 18.090820062201452 y_pos: 23.06566289708123 probability: 0.19066265457353807\n",
      "player: 10 x_pos: 110.99390298932018 y_pos: 39.74440621465897 probability: 0.0035708398434731864\n",
      "player: 10 x_pos: 2.7964333013998424 y_pos: 17.186578093731573 probability: 0.04561228247511023\n",
      "player: 15 x_pos: 91.59426022800433 y_pos: 4.462915118886215 probability: 0.027429972183230306\n",
      "player: 15 x_pos: 63.12833725011668 y_pos: 26.83510302117664 probability: 0.4418237376504485\n",
      "player: 15 x_pos: 141.98578294519936 y_pos: 2.4041801871872996 probability: 4.414789231775702e-05\n",
      "player: 9 x_pos: 41.71839497283386 y_pos: 24.815017639053515 probability: 0.6892397703004559\n",
      "player: 9 x_pos: 26.964822272526057 y_pos: 16.293920900406494 probability: 0.6495317503103867\n",
      "player: 9 x_pos: 4.507873695024594 y_pos: 36.638960688245405 probability: 0.03937979621995994\n"
     ]
    }
   ],
   "source": [
    "for i in range(3):\n",
    "    data = df[['tag_id' , 'x_pos' , 'y_pos']]\n",
    "    player = random.choice(players)\n",
    "    data = data[data['tag_id'] == player]\n",
    "    mean , sd , cov , coe = calculate_tools(data)\n",
    "    for j in range(3):\n",
    "        x_pos = random.uniform(0,150)\n",
    "        y_pos = random.uniform(0,68)\n",
    "        g = gaussian2d(x_pos, y_pos, centerx=mean['x_pos'], centery=mean['y_pos'], sigmax=sd['x_pos'], sigmay=sd['y_pos'])\n",
    "        print('player:' , player , 'x_pos:' , x_pos , 'y_pos:' , y_pos , 'probability:' , g*1000)\n",
    "    "
   ]
  },
  {
   "cell_type": "code",
   "execution_count": null,
   "id": "9223786a",
   "metadata": {},
   "outputs": [],
   "source": []
  },
  {
   "cell_type": "code",
   "execution_count": null,
   "id": "95a4fdab",
   "metadata": {},
   "outputs": [],
   "source": []
  }
 ],
 "metadata": {
  "kernelspec": {
   "display_name": "Python 3",
   "language": "python",
   "name": "python3"
  },
  "language_info": {
   "codemirror_mode": {
    "name": "ipython",
    "version": 3
   },
   "file_extension": ".py",
   "mimetype": "text/x-python",
   "name": "python",
   "nbconvert_exporter": "python",
   "pygments_lexer": "ipython3",
   "version": "3.8.8"
  }
 },
 "nbformat": 4,
 "nbformat_minor": 5
}
