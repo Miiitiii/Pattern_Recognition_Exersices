{
 "cells": [
  {
   "cell_type": "code",
   "execution_count": 1,
   "id": "1a13c10b",
   "metadata": {},
   "outputs": [
    {
     "data": {
      "text/html": [
       "<div>\n",
       "<style scoped>\n",
       "    .dataframe tbody tr th:only-of-type {\n",
       "        vertical-align: middle;\n",
       "    }\n",
       "\n",
       "    .dataframe tbody tr th {\n",
       "        vertical-align: top;\n",
       "    }\n",
       "\n",
       "    .dataframe thead th {\n",
       "        text-align: right;\n",
       "    }\n",
       "</style>\n",
       "<table border=\"1\" class=\"dataframe\">\n",
       "  <thead>\n",
       "    <tr style=\"text-align: right;\">\n",
       "      <th></th>\n",
       "      <th>0</th>\n",
       "      <th>1</th>\n",
       "      <th>2</th>\n",
       "      <th>3</th>\n",
       "      <th>4</th>\n",
       "      <th>5</th>\n",
       "      <th>6</th>\n",
       "      <th>7</th>\n",
       "      <th>8</th>\n",
       "      <th>9</th>\n",
       "      <th>...</th>\n",
       "      <th>20</th>\n",
       "      <th>21</th>\n",
       "      <th>22</th>\n",
       "      <th>23</th>\n",
       "      <th>24</th>\n",
       "      <th>25</th>\n",
       "      <th>26</th>\n",
       "      <th>27</th>\n",
       "      <th>28</th>\n",
       "      <th>29</th>\n",
       "    </tr>\n",
       "  </thead>\n",
       "  <tbody>\n",
       "    <tr>\n",
       "      <th>0</th>\n",
       "      <td>17.99</td>\n",
       "      <td>10.38</td>\n",
       "      <td>122.80</td>\n",
       "      <td>1001.0</td>\n",
       "      <td>0.11840</td>\n",
       "      <td>0.27760</td>\n",
       "      <td>0.3001</td>\n",
       "      <td>0.14710</td>\n",
       "      <td>0.2419</td>\n",
       "      <td>0.07871</td>\n",
       "      <td>...</td>\n",
       "      <td>25.38</td>\n",
       "      <td>17.33</td>\n",
       "      <td>184.60</td>\n",
       "      <td>2019.0</td>\n",
       "      <td>0.1622</td>\n",
       "      <td>0.6656</td>\n",
       "      <td>0.7119</td>\n",
       "      <td>0.2654</td>\n",
       "      <td>0.4601</td>\n",
       "      <td>0.11890</td>\n",
       "    </tr>\n",
       "    <tr>\n",
       "      <th>1</th>\n",
       "      <td>20.57</td>\n",
       "      <td>17.77</td>\n",
       "      <td>132.90</td>\n",
       "      <td>1326.0</td>\n",
       "      <td>0.08474</td>\n",
       "      <td>0.07864</td>\n",
       "      <td>0.0869</td>\n",
       "      <td>0.07017</td>\n",
       "      <td>0.1812</td>\n",
       "      <td>0.05667</td>\n",
       "      <td>...</td>\n",
       "      <td>24.99</td>\n",
       "      <td>23.41</td>\n",
       "      <td>158.80</td>\n",
       "      <td>1956.0</td>\n",
       "      <td>0.1238</td>\n",
       "      <td>0.1866</td>\n",
       "      <td>0.2416</td>\n",
       "      <td>0.1860</td>\n",
       "      <td>0.2750</td>\n",
       "      <td>0.08902</td>\n",
       "    </tr>\n",
       "    <tr>\n",
       "      <th>2</th>\n",
       "      <td>19.69</td>\n",
       "      <td>21.25</td>\n",
       "      <td>130.00</td>\n",
       "      <td>1203.0</td>\n",
       "      <td>0.10960</td>\n",
       "      <td>0.15990</td>\n",
       "      <td>0.1974</td>\n",
       "      <td>0.12790</td>\n",
       "      <td>0.2069</td>\n",
       "      <td>0.05999</td>\n",
       "      <td>...</td>\n",
       "      <td>23.57</td>\n",
       "      <td>25.53</td>\n",
       "      <td>152.50</td>\n",
       "      <td>1709.0</td>\n",
       "      <td>0.1444</td>\n",
       "      <td>0.4245</td>\n",
       "      <td>0.4504</td>\n",
       "      <td>0.2430</td>\n",
       "      <td>0.3613</td>\n",
       "      <td>0.08758</td>\n",
       "    </tr>\n",
       "    <tr>\n",
       "      <th>3</th>\n",
       "      <td>11.42</td>\n",
       "      <td>20.38</td>\n",
       "      <td>77.58</td>\n",
       "      <td>386.1</td>\n",
       "      <td>0.14250</td>\n",
       "      <td>0.28390</td>\n",
       "      <td>0.2414</td>\n",
       "      <td>0.10520</td>\n",
       "      <td>0.2597</td>\n",
       "      <td>0.09744</td>\n",
       "      <td>...</td>\n",
       "      <td>14.91</td>\n",
       "      <td>26.50</td>\n",
       "      <td>98.87</td>\n",
       "      <td>567.7</td>\n",
       "      <td>0.2098</td>\n",
       "      <td>0.8663</td>\n",
       "      <td>0.6869</td>\n",
       "      <td>0.2575</td>\n",
       "      <td>0.6638</td>\n",
       "      <td>0.17300</td>\n",
       "    </tr>\n",
       "    <tr>\n",
       "      <th>4</th>\n",
       "      <td>20.29</td>\n",
       "      <td>14.34</td>\n",
       "      <td>135.10</td>\n",
       "      <td>1297.0</td>\n",
       "      <td>0.10030</td>\n",
       "      <td>0.13280</td>\n",
       "      <td>0.1980</td>\n",
       "      <td>0.10430</td>\n",
       "      <td>0.1809</td>\n",
       "      <td>0.05883</td>\n",
       "      <td>...</td>\n",
       "      <td>22.54</td>\n",
       "      <td>16.67</td>\n",
       "      <td>152.20</td>\n",
       "      <td>1575.0</td>\n",
       "      <td>0.1374</td>\n",
       "      <td>0.2050</td>\n",
       "      <td>0.4000</td>\n",
       "      <td>0.1625</td>\n",
       "      <td>0.2364</td>\n",
       "      <td>0.07678</td>\n",
       "    </tr>\n",
       "  </tbody>\n",
       "</table>\n",
       "<p>5 rows × 30 columns</p>\n",
       "</div>"
      ],
      "text/plain": [
       "      0      1       2       3        4        5       6        7       8   \\\n",
       "0  17.99  10.38  122.80  1001.0  0.11840  0.27760  0.3001  0.14710  0.2419   \n",
       "1  20.57  17.77  132.90  1326.0  0.08474  0.07864  0.0869  0.07017  0.1812   \n",
       "2  19.69  21.25  130.00  1203.0  0.10960  0.15990  0.1974  0.12790  0.2069   \n",
       "3  11.42  20.38   77.58   386.1  0.14250  0.28390  0.2414  0.10520  0.2597   \n",
       "4  20.29  14.34  135.10  1297.0  0.10030  0.13280  0.1980  0.10430  0.1809   \n",
       "\n",
       "        9   ...     20     21      22      23      24      25      26      27  \\\n",
       "0  0.07871  ...  25.38  17.33  184.60  2019.0  0.1622  0.6656  0.7119  0.2654   \n",
       "1  0.05667  ...  24.99  23.41  158.80  1956.0  0.1238  0.1866  0.2416  0.1860   \n",
       "2  0.05999  ...  23.57  25.53  152.50  1709.0  0.1444  0.4245  0.4504  0.2430   \n",
       "3  0.09744  ...  14.91  26.50   98.87   567.7  0.2098  0.8663  0.6869  0.2575   \n",
       "4  0.05883  ...  22.54  16.67  152.20  1575.0  0.1374  0.2050  0.4000  0.1625   \n",
       "\n",
       "       28       29  \n",
       "0  0.4601  0.11890  \n",
       "1  0.2750  0.08902  \n",
       "2  0.3613  0.08758  \n",
       "3  0.6638  0.17300  \n",
       "4  0.2364  0.07678  \n",
       "\n",
       "[5 rows x 30 columns]"
      ]
     },
     "execution_count": 1,
     "metadata": {},
     "output_type": "execute_result"
    }
   ],
   "source": [
    "import numpy as np\n",
    "from matplotlib import pyplot as plt\n",
    "import pandas as pd\n",
    "import warnings\n",
    "warnings.filterwarnings(\"ignore\")\n",
    "import scipy.io as sio\n",
    "from sklearn.metrics import accuracy_score\n",
    "\n",
    "\n",
    "# reading csv files\n",
    "breast_data =  pd.read_csv(r'D:\\HomeWork\\Pattern\\inputs\\P2\\breast_data.csv' , header = None)\n",
    "breast_labels =  pd.read_csv(r'D:\\HomeWork\\Pattern\\inputs\\P2\\breast_labels.csv' , header = None)\n",
    "mu = sio.loadmat('D:\\HomeWork\\Pattern\\inputs\\P2\\init_mu.mat')\n",
    "mu_init = mu['mu_init']\n",
    "\n",
    "breast_data.head()"
   ]
  },
  {
   "cell_type": "code",
   "execution_count": 2,
   "id": "66a04c56",
   "metadata": {},
   "outputs": [],
   "source": [
    "#Question A"
   ]
  },
  {
   "cell_type": "code",
   "execution_count": 93,
   "id": "b05e792d",
   "metadata": {},
   "outputs": [],
   "source": [
    "#f for class 0 and s for class 1\n",
    "def kmeanscluster(X , k , mu , tol , maxIter):\n",
    "    iteration = 0\n",
    "    SSE = 100\n",
    "    \n",
    "    while iteration < maxIter and tol < SSE:\n",
    "        \n",
    "        newSSE = 0\n",
    "        \n",
    "        \n",
    "        newDatas = list()\n",
    "        \n",
    "        for item in range(k):\n",
    "            dist = []\n",
    "            for i in range(len(X)):\n",
    "                dist.append(np.linalg.norm(X.iloc[ i , :].values - mu[:, item:item+1].reshape(len(mu))))\n",
    "            newDatas.append(np.array(dist))\n",
    "            \n",
    "        \n",
    "        newLabels = np.argmin(np.array(newDatas), axis=0)\n",
    "        \n",
    "        means = list()\n",
    "        for item in range(k):\n",
    "            arrangedData = []\n",
    "            for i in range(len(X)):\n",
    "                if newLabels[i] == item:\n",
    "                    arrangedData.append(X.iloc[ i , :].values)\n",
    "            data = np.array(arrangedData)\n",
    "            newSSE = newSSE + np.sum((data - mu[:, item:item+1].reshape(len(mu)))**2)\n",
    "            meanData = data.mean(axis = 0)\n",
    "            means.append(meanData)\n",
    "            \n",
    "        \n",
    "        meansArray = []\n",
    "\n",
    "        for i in range(len(means)-1, -1, -1):\n",
    "            meansArray = [y for x in [meansArray, means[i]] for y in x]\n",
    "        mu = np.reshape(meansArray, (len(means[0]), k), order='F')\n",
    "        \n",
    "        iteration = iteration + 1\n",
    "        SSE = newSSE\n",
    "        \n",
    "        acc = accuracy_score(breast_labels.values.reshape(len(breast_labels.values)), newLabels)\n",
    "        \n",
    "        print(\"Accuracy for iteration \" , iteration , \" is \" , acc)\n",
    "        \n",
    "        \n",
    "    return newLabels"
   ]
  },
  {
   "cell_type": "code",
   "execution_count": 94,
   "id": "ffe50b88",
   "metadata": {},
   "outputs": [],
   "source": [
    "#Question B"
   ]
  },
  {
   "cell_type": "code",
   "execution_count": 95,
   "id": "b06544f9",
   "metadata": {},
   "outputs": [
    {
     "name": "stdout",
     "output_type": "stream",
     "text": [
      "Accuracy for iteration  1  is  0.14586994727592267\n",
      "Accuracy for iteration  2  is  0.8541300527240774\n",
      "Accuracy for iteration  3  is  0.14586994727592267\n",
      "Accuracy for iteration  4  is  0.8541300527240774\n",
      "Accuracy for iteration  5  is  0.14586994727592267\n",
      "Accuracy for iteration  6  is  0.8541300527240774\n",
      "Accuracy for iteration  7  is  0.14586994727592267\n",
      "Accuracy for iteration  8  is  0.8541300527240774\n",
      "Accuracy for iteration  9  is  0.14586994727592267\n",
      "Accuracy for iteration  10  is  0.8541300527240774\n"
     ]
    }
   ],
   "source": [
    "#First points\n",
    "points = np.array([[16.081 , 14.263],[20.498,16.655],[106.725 , 109.895],[829.931,800.789],[0.1075,0.10589],[0.164,0.1038],[0.158 , 0.189],[0.085,0.0311] , [0.2025,0.3159] , [0.0683,0.0263],[0.5385,0.5789],[1.3158,1.1765],[4.0531,3.1575],[52.632,59.720],[0.00662,0.00447],[0.0372,0.0421],[0.04146,0.01053],[0.0156,0.07421],[0.0223 , 0.0421],[0.00525 , 0.00959],[19.7173 , 14.7142],[28.5021 , 22.0526],[132.732,122.316],[1245.868,1131.158],[0.132 , 0.154],[0.460 , 0.581],[0.482 , 0.368],[0.191 , 0.105],[0.363 , 0.684],[0.109 , 0.053]])\n",
    "# y =  kmeanscluster(breast_data , 2 , points , 1 , 2)\n",
    "\n",
    "c = kmeanscluster(breast_data , 2 , points , 1 , 10)\n",
    "# print(c)"
   ]
  },
  {
   "cell_type": "code",
   "execution_count": 96,
   "id": "b550cd8e",
   "metadata": {},
   "outputs": [
    {
     "name": "stdout",
     "output_type": "stream",
     "text": [
      "Accuracy for iteration  1  is  0.1827768014059754\n",
      "Accuracy for iteration  2  is  0.8312829525483304\n",
      "Accuracy for iteration  3  is  0.15817223198594024\n",
      "Accuracy for iteration  4  is  0.8488576449912126\n",
      "Accuracy for iteration  5  is  0.14762741652021089\n",
      "Accuracy for iteration  6  is  0.8541300527240774\n",
      "Accuracy for iteration  7  is  0.14586994727592267\n",
      "Accuracy for iteration  8  is  0.8541300527240774\n",
      "Accuracy for iteration  9  is  0.14586994727592267\n",
      "Accuracy for iteration  10  is  0.8541300527240774\n"
     ]
    }
   ],
   "source": [
    "#Second points\n",
    "points = np.array([[14.081 , 18.263],[22.498,11.655],[116.725 , 98.895],[809.931,830.789],[0.1275,0.09589],[0.204,0.1138],[0.198 , 0.109],[0.185,0.0111] , [0.3025,0.1159] , [0.1683,0.0163],[0.6385,0.3789],[1.7158,1.0765],[6.0531,2.1575],[49.632,63.720],[0.01662,0.00147],[0.0272,0.0721],[0.08146,0.00553],[0.0756,0.02421],[0.0623 , 0.0221],[0.01525 , 0.00459],[23.7173 , 11.7142],[34.5021 , 19.0526],[142.732,110.316],[1563.868,1022.158],[0.175 , 0.131],[0.610 , 0.811],[0.182 , 0.268],[0.791 , 0.505],[0.163 , 0.284],[0.139 , 0.023]])\n",
    "c = kmeanscluster(breast_data , 2 , points , 1 , 10)"
   ]
  },
  {
   "cell_type": "code",
   "execution_count": 97,
   "id": "177a49be",
   "metadata": {},
   "outputs": [
    {
     "name": "stdout",
     "output_type": "stream",
     "text": [
      "Accuracy for iteration  1  is  0.1827768014059754\n",
      "Accuracy for iteration  2  is  0.8312829525483304\n",
      "Accuracy for iteration  3  is  0.15817223198594024\n",
      "Accuracy for iteration  4  is  0.8488576449912126\n",
      "Accuracy for iteration  5  is  0.14762741652021089\n",
      "Accuracy for iteration  6  is  0.8541300527240774\n",
      "Accuracy for iteration  7  is  0.14586994727592267\n",
      "Accuracy for iteration  8  is  0.8541300527240774\n",
      "Accuracy for iteration  9  is  0.14586994727592267\n",
      "Accuracy for iteration  10  is  0.8541300527240774\n"
     ]
    }
   ],
   "source": [
    "#Third points\n",
    "points = np.array([[14.081 , 18.263],[22.498,11.655],[116.725 , 98.895],[809.931,830.789],[0.1275,-0.09589],[0.204,-0.1138],[-0.198 , -0.109],[0.185,-0.0111] , [0.3025,-0.1159] , [-0.1683,-0.0163],[0.6385,0.3789],[1.7158,1.0765],[6.0531,2.1575],[49.632,63.720],[-0.01662,-0.00147],[-0.0272,-0.0721],[0.08146,-0.00553],[-0.0756,-0.02421],[-0.0623 , -0.0221],[-0.01525 , -0.00459],[23.7173 , 11.7142],[34.5021 , 19.0526],[142.732,110.316],[1563.868,1022.158],[0.175 , 0.131],[0.610 , -0.811],[0.182 , -0.268],[-0.791 , -0.505],[0.163 , -0.284],[-0.139 , -0.023]])\n",
    "c = kmeanscluster(breast_data , 2 , points , 1 , 10)"
   ]
  },
  {
   "cell_type": "code",
   "execution_count": 98,
   "id": "8b312710",
   "metadata": {},
   "outputs": [
    {
     "name": "stdout",
     "output_type": "stream",
     "text": [
      "Accuracy for iteration  1  is  0.20035149384885764\n",
      "Accuracy for iteration  2  is  0.8242530755711776\n",
      "Accuracy for iteration  3  is  0.16520210896309315\n",
      "Accuracy for iteration  4  is  0.843585237258348\n",
      "Accuracy for iteration  5  is  0.14938488576449913\n",
      "Accuracy for iteration  6  is  0.8523725834797891\n",
      "Accuracy for iteration  7  is  0.14586994727592267\n",
      "Accuracy for iteration  8  is  0.8541300527240774\n",
      "Accuracy for iteration  9  is  0.14586994727592267\n",
      "Accuracy for iteration  10  is  0.8541300527240774\n"
     ]
    }
   ],
   "source": [
    "#Forth points\n",
    "points = np.array([[14.081 , 18.263],[-22.498,11.655],[-116.725 , 98.895],[809.931,830.789],[0.1275,-0.09589],[0.204,-0.1138],[-0.198 , -0.109],[0.185,-0.0111] , [0.3025,-0.1159] , [-0.1683,-0.0163],[0.6385,0.3789],[1.7158,1.0765],[6.0531,2.1575],[49.632,63.720],[-0.01662,-0.00147],[-0.0272,-0.0721],[0.08146,-0.00553],[-0.0756,-0.02421],[-0.0623 , -0.0221],[-0.01525 , -0.00459],[23.7173 , 11.7142],[34.5021 , 19.0526],[142.732,110.316],[1563.868,1022.158],[0.175 , 0.131],[0.610 , -0.811],[0.182 , -0.268],[-0.791 , -0.505],[0.163 , -0.284],[-0.139 , -0.023]])\n",
    "c = kmeanscluster(breast_data , 2 , points , 1 , 10)"
   ]
  },
  {
   "cell_type": "code",
   "execution_count": 99,
   "id": "a9ac3fea",
   "metadata": {},
   "outputs": [
    {
     "name": "stdout",
     "output_type": "stream",
     "text": [
      "Accuracy for iteration  1  is  0.6063268892794376\n",
      "Accuracy for iteration  2  is  0.6889279437609842\n",
      "Accuracy for iteration  3  is  0.11599297012302284\n",
      "Accuracy for iteration  4  is  0.9015817223198594\n",
      "Accuracy for iteration  5  is  0.1335676625659051\n",
      "Accuracy for iteration  6  is  0.8576449912126538\n",
      "Accuracy for iteration  7  is  0.14586994727592267\n",
      "Accuracy for iteration  8  is  0.8541300527240774\n",
      "Accuracy for iteration  9  is  0.14586994727592267\n",
      "Accuracy for iteration  10  is  0.8541300527240774\n"
     ]
    }
   ],
   "source": [
    "#Fifth points\n",
    "points = np.array([[14.081 , 18.263],[-22.498,11.655],[-116.725 , 98.895],[809.931,830.789],[0.1275,-0.09589],[0.204,-0.1138],[-0.198 , -0.109],[0.185,-0.0111] , [0.3025,-0.1159] , [-0.1683,-0.0163],[0.6385,0.3789],[1.7158,1.0765],[6.0531,2.1575],[49.632,63.720],[-0.01662,-0.00147],[-0.0272,-0.0721],[0.08146,-0.00553],[-0.0756,-0.02421],[-0.0623 , -0.0221],[-0.01525 , -0.00459],[23.7173 , 11.7142],[34.5021 , 19.0526],[-142.732,110.316],[1563.868,-1022.158],[0.175 , 0.131],[0.610 , -0.811],[0.182 , -0.268],[-0.791 , -0.505],[0.163 , -0.284],[-0.139 , -0.023]])\n",
    "c = kmeanscluster(breast_data , 2 , points , 1 , 10)"
   ]
  },
  {
   "cell_type": "code",
   "execution_count": 77,
   "id": "bf45462b",
   "metadata": {},
   "outputs": [],
   "source": [
    "#Question C"
   ]
  },
  {
   "cell_type": "code",
   "execution_count": 100,
   "id": "8f48c6bd",
   "metadata": {},
   "outputs": [
    {
     "name": "stdout",
     "output_type": "stream",
     "text": [
      "Accuracy for iteration  1  is  0.37082601054481545\n",
      "Accuracy for iteration  2  is  0.820738137082601\n",
      "Accuracy for iteration  3  is  0.16520210896309315\n",
      "Accuracy for iteration  4  is  0.843585237258348\n",
      "Accuracy for iteration  5  is  0.14938488576449913\n",
      "Accuracy for iteration  6  is  0.8523725834797891\n",
      "Accuracy for iteration  7  is  0.14586994727592267\n",
      "Accuracy for iteration  8  is  0.8541300527240774\n",
      "Accuracy for iteration  9  is  0.14586994727592267\n",
      "Accuracy for iteration  10  is  0.8541300527240774\n"
     ]
    }
   ],
   "source": [
    "c = kmeanscluster(breast_data , 2 , mu_init , 1 , 10)"
   ]
  },
  {
   "cell_type": "code",
   "execution_count": 79,
   "id": "f5534644",
   "metadata": {},
   "outputs": [],
   "source": [
    "#Question D"
   ]
  },
  {
   "cell_type": "code",
   "execution_count": 101,
   "id": "c4fc6547",
   "metadata": {},
   "outputs": [
    {
     "name": "stdout",
     "output_type": "stream",
     "text": [
      "Accuracy for iteration  1  is  0.8910369068541301\n",
      "Accuracy for iteration  2  is  0.13181019332161686\n",
      "Accuracy for iteration  3  is  0.8576449912126538\n",
      "Accuracy for iteration  4  is  0.14586994727592267\n",
      "Accuracy for iteration  5  is  0.8541300527240774\n",
      "Accuracy for iteration  6  is  0.14586994727592267\n",
      "Accuracy for iteration  7  is  0.8541300527240774\n",
      "Accuracy for iteration  8  is  0.14586994727592267\n",
      "Accuracy for iteration  9  is  0.8541300527240774\n",
      "Accuracy for iteration  10  is  0.14586994727592267\n"
     ]
    }
   ],
   "source": [
    "true_labels = breast_labels.values.reshape(len(breast_labels.values))\n",
    "non_cancer = list()\n",
    "cancer = list()\n",
    "for i in range(len(breast_labels)):\n",
    "    if true_labels[i] == 0:\n",
    "        non_cancer.append(breast_data.iloc[ i , :].values)\n",
    "    else:\n",
    "        cancer.append(breast_data.iloc[ i , :].values)\n",
    "\n",
    "non_cancer_means = np.array(non_cancer).mean(axis=0)\n",
    "cancer_means = np.array(cancer).mean(axis=0)\n",
    "\n",
    "\n",
    "res_list = [y for x in [non_cancer_means, cancer_means] for y in x]\n",
    "arr_2d = np.reshape(res_list, (30, 2), order='F')\n",
    "c = kmeanscluster(breast_data , 2 , arr_2d , 1 , 10)\n"
   ]
  },
  {
   "cell_type": "code",
   "execution_count": null,
   "id": "b32d5c1f",
   "metadata": {},
   "outputs": [],
   "source": []
  }
 ],
 "metadata": {
  "kernelspec": {
   "display_name": "Python 3",
   "language": "python",
   "name": "python3"
  },
  "language_info": {
   "codemirror_mode": {
    "name": "ipython",
    "version": 3
   },
   "file_extension": ".py",
   "mimetype": "text/x-python",
   "name": "python",
   "nbconvert_exporter": "python",
   "pygments_lexer": "ipython3",
   "version": "3.8.8"
  }
 },
 "nbformat": 4,
 "nbformat_minor": 5
}
