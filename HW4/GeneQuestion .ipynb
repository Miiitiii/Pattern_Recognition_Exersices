{
 "cells": [
  {
   "cell_type": "code",
   "execution_count": 9,
   "id": "0006c4f6",
   "metadata": {},
   "outputs": [
    {
     "data": {
      "text/html": [
       "<div>\n",
       "<style scoped>\n",
       "    .dataframe tbody tr th:only-of-type {\n",
       "        vertical-align: middle;\n",
       "    }\n",
       "\n",
       "    .dataframe tbody tr th {\n",
       "        vertical-align: top;\n",
       "    }\n",
       "\n",
       "    .dataframe thead th {\n",
       "        text-align: right;\n",
       "    }\n",
       "</style>\n",
       "<table border=\"1\" class=\"dataframe\">\n",
       "  <thead>\n",
       "    <tr style=\"text-align: right;\">\n",
       "      <th></th>\n",
       "      <th>0</th>\n",
       "      <th>1</th>\n",
       "      <th>2</th>\n",
       "      <th>3</th>\n",
       "      <th>4</th>\n",
       "      <th>5</th>\n",
       "      <th>6</th>\n",
       "      <th>7</th>\n",
       "      <th>8</th>\n",
       "      <th>9</th>\n",
       "      <th>...</th>\n",
       "      <th>30</th>\n",
       "      <th>31</th>\n",
       "      <th>32</th>\n",
       "      <th>33</th>\n",
       "      <th>34</th>\n",
       "      <th>35</th>\n",
       "      <th>36</th>\n",
       "      <th>37</th>\n",
       "      <th>38</th>\n",
       "      <th>39</th>\n",
       "    </tr>\n",
       "  </thead>\n",
       "  <tbody>\n",
       "    <tr>\n",
       "      <th>0</th>\n",
       "      <td>-0.961933</td>\n",
       "      <td>0.441803</td>\n",
       "      <td>-0.975005</td>\n",
       "      <td>1.417504</td>\n",
       "      <td>0.818815</td>\n",
       "      <td>0.316294</td>\n",
       "      <td>-0.024967</td>\n",
       "      <td>-0.063966</td>\n",
       "      <td>0.031497</td>\n",
       "      <td>-0.350311</td>\n",
       "      <td>...</td>\n",
       "      <td>-0.509591</td>\n",
       "      <td>-0.216725</td>\n",
       "      <td>-0.055506</td>\n",
       "      <td>-0.484449</td>\n",
       "      <td>-0.521581</td>\n",
       "      <td>1.949135</td>\n",
       "      <td>1.324335</td>\n",
       "      <td>0.468147</td>\n",
       "      <td>1.061100</td>\n",
       "      <td>1.655970</td>\n",
       "    </tr>\n",
       "    <tr>\n",
       "      <th>1</th>\n",
       "      <td>-0.292526</td>\n",
       "      <td>-1.139267</td>\n",
       "      <td>0.195837</td>\n",
       "      <td>-1.281121</td>\n",
       "      <td>-0.251439</td>\n",
       "      <td>2.511997</td>\n",
       "      <td>-0.922206</td>\n",
       "      <td>0.059543</td>\n",
       "      <td>-1.409645</td>\n",
       "      <td>-0.656712</td>\n",
       "      <td>...</td>\n",
       "      <td>1.700708</td>\n",
       "      <td>0.007290</td>\n",
       "      <td>0.099062</td>\n",
       "      <td>0.563853</td>\n",
       "      <td>-0.257275</td>\n",
       "      <td>-0.581781</td>\n",
       "      <td>-0.169887</td>\n",
       "      <td>-0.542304</td>\n",
       "      <td>0.312939</td>\n",
       "      <td>-1.284377</td>\n",
       "    </tr>\n",
       "    <tr>\n",
       "      <th>2</th>\n",
       "      <td>0.258788</td>\n",
       "      <td>-0.972845</td>\n",
       "      <td>0.588486</td>\n",
       "      <td>-0.800258</td>\n",
       "      <td>-1.820398</td>\n",
       "      <td>-2.058924</td>\n",
       "      <td>-0.064764</td>\n",
       "      <td>1.592124</td>\n",
       "      <td>-0.173117</td>\n",
       "      <td>-0.121087</td>\n",
       "      <td>...</td>\n",
       "      <td>-0.615472</td>\n",
       "      <td>0.009999</td>\n",
       "      <td>0.945810</td>\n",
       "      <td>-0.318521</td>\n",
       "      <td>-0.117889</td>\n",
       "      <td>0.621366</td>\n",
       "      <td>-0.070764</td>\n",
       "      <td>0.401682</td>\n",
       "      <td>-0.016227</td>\n",
       "      <td>-0.526553</td>\n",
       "    </tr>\n",
       "    <tr>\n",
       "      <th>3</th>\n",
       "      <td>-1.152132</td>\n",
       "      <td>-2.213168</td>\n",
       "      <td>-0.861525</td>\n",
       "      <td>0.630925</td>\n",
       "      <td>0.951772</td>\n",
       "      <td>-1.165724</td>\n",
       "      <td>-0.391559</td>\n",
       "      <td>1.063619</td>\n",
       "      <td>-0.350009</td>\n",
       "      <td>-1.489058</td>\n",
       "      <td>...</td>\n",
       "      <td>-0.284277</td>\n",
       "      <td>0.198946</td>\n",
       "      <td>-0.091833</td>\n",
       "      <td>0.349628</td>\n",
       "      <td>-0.298910</td>\n",
       "      <td>1.513696</td>\n",
       "      <td>0.671185</td>\n",
       "      <td>0.010855</td>\n",
       "      <td>-1.043689</td>\n",
       "      <td>1.625275</td>\n",
       "    </tr>\n",
       "    <tr>\n",
       "      <th>4</th>\n",
       "      <td>0.195783</td>\n",
       "      <td>0.593306</td>\n",
       "      <td>0.282992</td>\n",
       "      <td>0.247147</td>\n",
       "      <td>1.978668</td>\n",
       "      <td>-0.871018</td>\n",
       "      <td>-0.989715</td>\n",
       "      <td>-1.032253</td>\n",
       "      <td>-1.109654</td>\n",
       "      <td>-0.385142</td>\n",
       "      <td>...</td>\n",
       "      <td>-0.692998</td>\n",
       "      <td>-0.845707</td>\n",
       "      <td>-0.177497</td>\n",
       "      <td>-0.166491</td>\n",
       "      <td>1.483155</td>\n",
       "      <td>-1.687946</td>\n",
       "      <td>-0.141430</td>\n",
       "      <td>0.200778</td>\n",
       "      <td>-0.675942</td>\n",
       "      <td>2.220611</td>\n",
       "    </tr>\n",
       "  </tbody>\n",
       "</table>\n",
       "<p>5 rows × 40 columns</p>\n",
       "</div>"
      ],
      "text/plain": [
       "         0         1         2         3         4         5         6   \\\n",
       "0 -0.961933  0.441803 -0.975005  1.417504  0.818815  0.316294 -0.024967   \n",
       "1 -0.292526 -1.139267  0.195837 -1.281121 -0.251439  2.511997 -0.922206   \n",
       "2  0.258788 -0.972845  0.588486 -0.800258 -1.820398 -2.058924 -0.064764   \n",
       "3 -1.152132 -2.213168 -0.861525  0.630925  0.951772 -1.165724 -0.391559   \n",
       "4  0.195783  0.593306  0.282992  0.247147  1.978668 -0.871018 -0.989715   \n",
       "\n",
       "         7         8         9   ...        30        31        32        33  \\\n",
       "0 -0.063966  0.031497 -0.350311  ... -0.509591 -0.216725 -0.055506 -0.484449   \n",
       "1  0.059543 -1.409645 -0.656712  ...  1.700708  0.007290  0.099062  0.563853   \n",
       "2  1.592124 -0.173117 -0.121087  ... -0.615472  0.009999  0.945810 -0.318521   \n",
       "3  1.063619 -0.350009 -1.489058  ... -0.284277  0.198946 -0.091833  0.349628   \n",
       "4 -1.032253 -1.109654 -0.385142  ... -0.692998 -0.845707 -0.177497 -0.166491   \n",
       "\n",
       "         34        35        36        37        38        39  \n",
       "0 -0.521581  1.949135  1.324335  0.468147  1.061100  1.655970  \n",
       "1 -0.257275 -0.581781 -0.169887 -0.542304  0.312939 -1.284377  \n",
       "2 -0.117889  0.621366 -0.070764  0.401682 -0.016227 -0.526553  \n",
       "3 -0.298910  1.513696  0.671185  0.010855 -1.043689  1.625275  \n",
       "4  1.483155 -1.687946 -0.141430  0.200778 -0.675942  2.220611  \n",
       "\n",
       "[5 rows x 40 columns]"
      ]
     },
     "execution_count": 9,
     "metadata": {},
     "output_type": "execute_result"
    }
   ],
   "source": [
    "import numpy as np\n",
    "from matplotlib import pyplot as plt\n",
    "import pandas as pd\n",
    "import warnings\n",
    "warnings.filterwarnings(\"ignore\")\n",
    "import scipy.io as sio\n",
    "from sklearn.metrics import accuracy_score\n",
    "import random\n",
    "from sklearn.cluster import AgglomerativeClustering\n",
    "from scipy.cluster.hierarchy import dendrogram\n",
    "\n",
    "# reading csv files\n",
    "data =  pd.read_csv(r'D:\\HomeWork\\Pattern\\inputs\\P3\\gene_ex.csv' , header = None)\n",
    "\n",
    "\n",
    "data.head()"
   ]
  },
  {
   "cell_type": "code",
   "execution_count": 70,
   "id": "b5062030",
   "metadata": {},
   "outputs": [],
   "source": [
    "clustering = AgglomerativeClustering(distance_threshold=0 , n_clusters=None , linkage = 'complete').fit(data)"
   ]
  },
  {
   "cell_type": "code",
   "execution_count": 71,
   "id": "eac0bff1",
   "metadata": {},
   "outputs": [
    {
     "data": {
      "text/plain": [
       "1000"
      ]
     },
     "execution_count": 71,
     "metadata": {},
     "output_type": "execute_result"
    }
   ],
   "source": [
    "clustering.n_clusters_"
   ]
  },
  {
   "cell_type": "code",
   "execution_count": null,
   "id": "0c2d7b5d",
   "metadata": {},
   "outputs": [],
   "source": []
  },
  {
   "cell_type": "code",
   "execution_count": 72,
   "id": "56dad3fc",
   "metadata": {},
   "outputs": [],
   "source": [
    "def plot_dendrogram(model, **kwargs):\n",
    "    # Create linkage matrix and then plot the dendrogram\n",
    "\n",
    "    # create the counts of samples under each node\n",
    "    counts = np.zeros(model.children_.shape[0])\n",
    "    n_samples = len(model.labels_)\n",
    "    for i, merge in enumerate(model.children_):\n",
    "        current_count = 0\n",
    "        for child_idx in merge:\n",
    "            if child_idx < n_samples:\n",
    "                current_count += 1  # leaf node\n",
    "            else:\n",
    "                current_count += counts[child_idx - n_samples]\n",
    "        counts[i] = current_count\n",
    "\n",
    "    linkage_matrix = np.column_stack(\n",
    "        [model.children_, model.distances_, counts]\n",
    "    ).astype(float)\n",
    "\n",
    "    # Plot the corresponding dendrogram\n",
    "    dendrogram(linkage_matrix, **kwargs)"
   ]
  },
  {
   "cell_type": "code",
   "execution_count": 73,
   "id": "8cfc0b17",
   "metadata": {},
   "outputs": [
    {
     "data": {
      "image/png": "[encoded data removed]",
      "text/plain": [
       "<Figure size 432x288 with 1 Axes>"
      ]
     },
     "metadata": {
      "needs_background": "light"
     },
     "output_type": "display_data"
    }
   ],
   "source": [
    "plot_dendrogram(clustering, truncate_mode=\"level\", p=3)"
   ]
  },
  {
   "cell_type": "code",
   "execution_count": 75,
   "id": "e0ca2495",
   "metadata": {},
   "outputs": [],
   "source": [
    "#with a preprocess we make mean equal to zero\n",
    "#then correlation distance converge to cosine distance\n",
    "data1 = data - data.mean(axis = 0)"
   ]
  },
  {
   "cell_type": "code",
   "execution_count": 79,
   "id": "fdef5651",
   "metadata": {},
   "outputs": [],
   "source": [
    "clustering = AgglomerativeClustering(distance_threshold=0 , n_clusters=None , affinity = 'cosine' , linkage = 'average').fit(data1)"
   ]
  },
  {
   "cell_type": "code",
   "execution_count": 80,
   "id": "10520e4e",
   "metadata": {},
   "outputs": [
    {
     "data": {
      "image/png": "[encoded data removed]",
      "text/plain": [
       "<Figure size 432x288 with 1 Axes>"
      ]
     },
     "metadata": {
      "needs_background": "light"
     },
     "output_type": "display_data"
    }
   ],
   "source": [
    "plot_dendrogram(clustering, truncate_mode=\"level\", p=3)"
   ]
  },
  {
   "cell_type": "code",
   "execution_count": null,
   "id": "090dc6f4",
   "metadata": {},
   "outputs": [],
   "source": []
  },
  {
   "cell_type": "code",
   "execution_count": null,
   "id": "e199f436",
   "metadata": {},
   "outputs": [],
   "source": []
  }
 ],
 "metadata": {
  "kernelspec": {
   "display_name": "Python 3",
   "language": "python",
   "name": "python3"
  },
  "language_info": {
   "codemirror_mode": {
    "name": "ipython",
    "version": 3
   },
   "file_extension": ".py",
   "mimetype": "text/x-python",
   "name": "python",
   "nbconvert_exporter": "python",
   "pygments_lexer": "ipython3",
   "version": "3.8.8"
  }
 },
 "nbformat": 4,
 "nbformat_minor": 5
}
