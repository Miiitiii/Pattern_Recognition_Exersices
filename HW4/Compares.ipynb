{
 "cells": [
  {
   "cell_type": "code",
   "execution_count": 34,
   "id": "990b2857",
   "metadata": {},
   "outputs": [],
   "source": [
    "import numpy as np\n",
    "from matplotlib import pyplot as plt\n",
    "import pandas as pd\n",
    "import warnings\n",
    "warnings.filterwarnings(\"ignore\")\n",
    "import scipy.io as sio\n",
    "from sklearn.metrics import accuracy_score\n",
    "import random\n",
    "from sklearn.cluster import AgglomerativeClustering\n",
    "from scipy.cluster.hierarchy import dendrogram\n",
    "from sklearn.metrics.cluster import normalized_mutual_info_score\n",
    "from sklearn import metrics\n",
    "\n",
    "\n",
    "# reading csv files\n",
    "rand = sio.loadmat(r'D:\\HomeWork\\Pattern\\inputs\\P3\\two_spiral.mat')\n",
    "\n",
    "points = rand['dataset'][0][0][0]\n",
    "labels = rand['dataset'][0][0][1]"
   ]
  },
  {
   "cell_type": "code",
   "execution_count": 4,
   "id": "7aba1dc8",
   "metadata": {},
   "outputs": [
    {
     "data": {
      "text/plain": [
       "array([[-12.60074484,   0.85742237],\n",
       "       [  9.04395005,  -3.78780621],\n",
       "       [-10.9216829 ,  -5.09258338],\n",
       "       ...,\n",
       "       [ 11.15331884,  -6.87154829],\n",
       "       [  7.09806018,   9.27102461],\n",
       "       [ -4.27935268,   9.67005977]])"
      ]
     },
     "execution_count": 4,
     "metadata": {},
     "output_type": "execute_result"
    }
   ],
   "source": [
    "points"
   ]
  },
  {
   "cell_type": "code",
   "execution_count": 5,
   "id": "0f86433b",
   "metadata": {},
   "outputs": [
    {
     "data": {
      "image/png": "[encoded data removed]",
      "text/plain": [
       "<Figure size 720x504 with 1 Axes>"
      ]
     },
     "metadata": {
      "needs_background": "light"
     },
     "output_type": "display_data"
    }
   ],
   "source": [
    "from scipy.cluster.hierarchy import dendrogram, linkage\n",
    "\n",
    "linked = linkage(points, 'single')\n",
    "\n",
    "labelList = range(1, 11)\n",
    "\n",
    "plt.figure(figsize=(10, 7))\n",
    "dendrogram(linked,\n",
    "            orientation='bottom',\n",
    "            distance_sort='as',\n",
    "            show_leaf_counts=True)\n",
    "plt.show()"
   ]
  },
  {
   "cell_type": "code",
   "execution_count": 44,
   "id": "07397548",
   "metadata": {},
   "outputs": [],
   "source": [
    "def purity_score(y_true, y_pred):\n",
    "    # compute contingency matrix (also called confusion matrix)\n",
    "    contingency_matrix = metrics.cluster.contingency_matrix(y_true, y_pred)\n",
    "    # return purity\n",
    "    return np.sum(np.amax(contingency_matrix, axis=0)) / np.sum(contingency_matrix)"
   ]
  },
  {
   "cell_type": "code",
   "execution_count": 45,
   "id": "ec19c7cc",
   "metadata": {},
   "outputs": [],
   "source": [
    "clustering = AgglomerativeClustering(linkage = 'complete').fit(points)"
   ]
  },
  {
   "cell_type": "code",
   "execution_count": 46,
   "id": "78fd78af",
   "metadata": {},
   "outputs": [
    {
     "name": "stdout",
     "output_type": "stream",
     "text": [
      "NMI for complete is :  0.036320148104460596\n",
      "Purity for complete is :  0.6045\n"
     ]
    }
   ],
   "source": [
    "a = labels.reshape(1 , 2000)\n",
    "print(\"NMI for complete is : \" , normalized_mutual_info_score(a[0], clustering.labels_))\n",
    "print(\"Purity for complete is : \" , purity_score(a[0] , clustering.labels_))"
   ]
  },
  {
   "cell_type": "code",
   "execution_count": 47,
   "id": "f50b26ab",
   "metadata": {},
   "outputs": [],
   "source": [
    "clustering = AgglomerativeClustering(linkage = 'single').fit(points)"
   ]
  },
  {
   "cell_type": "code",
   "execution_count": 48,
   "id": "3b487698",
   "metadata": {},
   "outputs": [
    {
     "name": "stdout",
     "output_type": "stream",
     "text": [
      "NMI for single is :  1.0\n",
      "Purity for single is :  1.0\n"
     ]
    }
   ],
   "source": [
    "a = labels.reshape(1 , 2000)\n",
    "print(\"NMI for single is : \" , normalized_mutual_info_score(a[0], clustering.labels_))\n",
    "print(\"Purity for single is : \" , purity_score(a[0] , clustering.labels_))"
   ]
  },
  {
   "cell_type": "code",
   "execution_count": 50,
   "id": "5186919f",
   "metadata": {},
   "outputs": [],
   "source": [
    "#f for class 0 and s for class 1\n",
    "def kmeanscluster(X , k , mu , tol , maxIter):\n",
    "    iteration = 0\n",
    "    SSE = 100\n",
    "    \n",
    "    while iteration < maxIter and tol < SSE:\n",
    "        \n",
    "        newSSE = 0\n",
    "        \n",
    "        \n",
    "        newDatas = list()\n",
    "        \n",
    "        for item in range(k):\n",
    "            dist = []\n",
    "            for i in range(len(X)):\n",
    "                dist.append(np.linalg.norm(X[i] - mu[:, item:item+1].reshape(len(mu))))\n",
    "            newDatas.append(np.array(dist))\n",
    "            \n",
    "        \n",
    "        newLabels = np.argmin(np.array(newDatas), axis=0)\n",
    "        \n",
    "        means = list()\n",
    "        for item in range(k):\n",
    "            arrangedData = []\n",
    "            for i in range(len(X)):\n",
    "                if newLabels[i] == item:\n",
    "                    arrangedData.append(X[i])\n",
    "            data = np.array(arrangedData)\n",
    "            newSSE = newSSE + np.sum((data - mu[:, item:item+1].reshape(len(mu)))**2)\n",
    "            meanData = data.mean(axis = 0)\n",
    "            means.append(meanData)\n",
    "        \n",
    "        meansArray = []\n",
    "\n",
    "        for i in range(len(means)-1, -1, -1):\n",
    "            meansArray = [y for x in [meansArray, means[i]] for y in x]\n",
    "        mu = np.reshape(meansArray, (len(means[0]), k), order='F')\n",
    "        \n",
    "        iteration = iteration + 1\n",
    "        SSE = newSSE\n",
    "        \n",
    "        \n",
    "    return newLabels , SSE"
   ]
  },
  {
   "cell_type": "code",
   "execution_count": 64,
   "id": "fd00258a",
   "metadata": {},
   "outputs": [],
   "source": [
    "mu = np.array([[-0.08193065 , 6.28],[0.25664401,4.0]])\n",
    "f , SSE = kmeanscluster(points , 2 , mu , 1 , 20 )"
   ]
  },
  {
   "cell_type": "code",
   "execution_count": 65,
   "id": "e0e60a3a",
   "metadata": {},
   "outputs": [
    {
     "name": "stdout",
     "output_type": "stream",
     "text": [
      "NMI for complete is :  0.025412392639248924\n",
      "Purity for complete is :  0.5935\n"
     ]
    }
   ],
   "source": [
    "a = labels.reshape(1 , 2000)\n",
    "print(\"NMI for complete is : \" , normalized_mutual_info_score(a[0], f))\n",
    "print(\"Purity for complete is : \" , purity_score(a[0] , f))"
   ]
  },
  {
   "cell_type": "code",
   "execution_count": null,
   "id": "9c1bcabb",
   "metadata": {},
   "outputs": [],
   "source": []
  },
  {
   "cell_type": "code",
   "execution_count": null,
   "id": "852112ac",
   "metadata": {},
   "outputs": [],
   "source": []
  },
  {
   "cell_type": "code",
   "execution_count": null,
   "id": "cecb9267",
   "metadata": {},
   "outputs": [],
   "source": []
  }
 ],
 "metadata": {
  "kernelspec": {
   "display_name": "Python 3",
   "language": "python",
   "name": "python3"
  },
  "language_info": {
   "codemirror_mode": {
    "name": "ipython",
    "version": 3
   },
   "file_extension": ".py",
   "mimetype": "text/x-python",
   "name": "python",
   "nbconvert_exporter": "python",
   "pygments_lexer": "ipython3",
   "version": "3.8.8"
  }
 },
 "nbformat": 4,
 "nbformat_minor": 5
}
